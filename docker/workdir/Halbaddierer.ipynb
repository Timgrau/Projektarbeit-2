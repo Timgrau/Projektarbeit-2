{
 "cells": [
  {
   "cell_type": "code",
   "execution_count": 14,
   "id": "c7656888",
   "metadata": {},
   "outputs": [],
   "source": [
    "from qiskit import QuantumRegister, ClassicalRegister, QuantumCircuit\n",
    "from qiskit import Aer, transpile, assemble"
   ]
  },
  {
   "cell_type": "code",
   "execution_count": 15,
   "id": "1de7cbd5",
   "metadata": {},
   "outputs": [],
   "source": [
    "qreg_q = QuantumRegister(3, 'q')\n",
    "creg_c = ClassicalRegister(2, 'c')\n",
    "circuit = QuantumCircuit(qreg_q, creg_c)"
   ]
  },
  {
   "cell_type": "code",
   "execution_count": 16,
   "id": "195a5014",
   "metadata": {},
   "outputs": [
    {
     "data": {
      "text/html": [
       "<pre style=\"word-wrap: normal;white-space: pre;background: #fff0;line-height: 1.1;font-family: &quot;Courier New&quot;,Courier,monospace\">     ┌───┐             \n",
       "q_0: ┤ X ├──■────■─────\n",
       "     ├───┤  │  ┌─┴─┐┌─┐\n",
       "q_1: ┤ X ├──■──┤ X ├┤M├\n",
       "     └───┘┌─┴─┐└┬─┬┘└╥┘\n",
       "q_2: ─────┤ X ├─┤M├──╫─\n",
       "          └───┘ └╥┘  ║ \n",
       "c: 2/════════════╩═══╩═\n",
       "                 1   0 </pre>"
      ],
      "text/plain": [
       "     ┌───┐             \n",
       "q_0: ┤ X ├──■────■─────\n",
       "     ├───┤  │  ┌─┴─┐┌─┐\n",
       "q_1: ┤ X ├──■──┤ X ├┤M├\n",
       "     └───┘┌─┴─┐└┬─┬┘└╥┘\n",
       "q_2: ─────┤ X ├─┤M├──╫─\n",
       "          └───┘ └╥┘  ║ \n",
       "c: 2/════════════╩═══╩═\n",
       "                 1   0 "
      ]
     },
     "execution_count": 16,
     "metadata": {},
     "output_type": "execute_result"
    }
   ],
   "source": [
    "# circuit (Halfadder)\n",
    "circuit.x(qreg_q[0])\n",
    "circuit.x(qreg_q[1])\n",
    "circuit.ccx(qreg_q[0], qreg_q[1], qreg_q[2])\n",
    "circuit.cx(qreg_q[0], qreg_q[1])\n",
    "\n",
    "circuit.measure(qreg_q[2], creg_c[1])\n",
    "circuit.measure(qreg_q[1], creg_c[0])\n",
    "\n",
    "circuit.draw()"
   ]
  },
  {
   "cell_type": "code",
   "execution_count": 17,
   "id": "8157d144",
   "metadata": {},
   "outputs": [
    {
     "data": {
      "text/plain": [
       "{'10': 1024}"
      ]
     },
     "execution_count": 17,
     "metadata": {},
     "output_type": "execute_result"
    }
   ],
   "source": [
    "# Simulate\n",
    "aer_sim = Aer.get_backend('aer_simulator')\n",
    "shots = 1024\n",
    "t_circuit = transpile(circuit, aer_sim)\n",
    "qobj = assemble(t_circuit, shots=shots)\n",
    "results = aer_sim.run(qobj).result()\n",
    "answer = results.get_counts()\n",
    "\n",
    "answer"
   ]
  }
 ],
 "metadata": {
  "kernelspec": {
   "display_name": "Python 3 (ipykernel)",
   "language": "python",
   "name": "python3"
  },
  "language_info": {
   "codemirror_mode": {
    "name": "ipython",
    "version": 3
   },
   "file_extension": ".py",
   "mimetype": "text/x-python",
   "name": "python",
   "nbconvert_exporter": "python",
   "pygments_lexer": "ipython3",
   "version": "3.10.4"
  }
 },
 "nbformat": 4,
 "nbformat_minor": 5
}
