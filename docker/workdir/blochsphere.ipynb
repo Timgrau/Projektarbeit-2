{
 "cells": [
  {
   "cell_type": "code",
   "execution_count": null,
   "id": "19d10944",
   "metadata": {},
   "outputs": [],
   "source": [
    "from qutip import Bloch, Qobj, states\n",
    "import numpy as np"
   ]
  },
  {
   "cell_type": "code",
   "execution_count": null,
   "id": "21ed0d81",
   "metadata": {},
   "outputs": [],
   "source": [
    "bloch = Bloch()\n",
    "\n",
    "# Zustandsvektoren\n",
    "base_0 = states.basis(2, 0)\n",
    "psi = Qobj([[np.sqrt(0.82)], [np.sqrt(0.18)]])\n",
    "\n",
    "bloch.add_states(psi)\n",
    "bloch.add_states(base_0)\n",
    "\n",
    "# Blochsvektoren\n",
    "x = [1, 0, 0]\n",
    "y = [0, 1, 0]\n",
    "\n",
    "bloch.add_vectors(x)\n",
    "bloch.add_vectors(y)\n",
    "\n",
    "# Blochs-Kugel settings\n",
    "bloch.sphere_alpha = 0.05\n",
    "bloch.sphere_color = \"w\"\n",
    "bloch.xlabel = ['$\\\\left|+\\\\right>$', \"$\\\\left|-\\\\right>$\"]  \n",
    "bloch.view = [-50, 30]\n",
    "\n",
    "# Punkte hinzufügen\n",
    "psi_dot = bloch.vectors[0]\n",
    "base_0_dot = bloch.vectors[1]\n",
    "base_1_dot = [0, 0, -1]\n",
    "\n",
    "bloch.add_points(psi_dot)\n",
    "bloch.add_points(base_0_dot)\n",
    "bloch.add_points(base_1_dot)\n",
    "\n",
    "# Farben und Markierungen\n",
    "bloch.vector_color = [\"r\", \"k\", \"k\", \"k\"]\n",
    "bloch.point_color = [\"r\", \"k\", \"k\"]\n",
    "bloch.point_marker = [\"o\", \"x\", \"x\"]\n",
    "bloch.point_size = [45, 70, 70]"
   ]
  },
  {
   "cell_type": "code",
   "execution_count": null,
   "id": "0fcaed43",
   "metadata": {},
   "outputs": [],
   "source": [
    "base_0"
   ]
  },
  {
   "cell_type": "code",
   "execution_count": null,
   "id": "54ddf772",
   "metadata": {},
   "outputs": [],
   "source": [
    "psi"
   ]
  },
  {
   "cell_type": "code",
   "execution_count": null,
   "id": "57fc206f",
   "metadata": {},
   "outputs": [],
   "source": [
    "#bloch.save(\"blochsphere.pdf\")\n",
    "bloch.show()"
   ]
  }
 ],
 "metadata": {
  "kernelspec": {
   "display_name": "Python 3 (ipykernel)",
   "language": "python",
   "name": "python3"
  },
  "language_info": {
   "codemirror_mode": {
    "name": "ipython",
    "version": 3
   },
   "file_extension": ".py",
   "mimetype": "text/x-python",
   "name": "python",
   "nbconvert_exporter": "python",
   "pygments_lexer": "ipython3",
   "version": "3.10.4"
  }
 },
 "nbformat": 4,
 "nbformat_minor": 5
}
