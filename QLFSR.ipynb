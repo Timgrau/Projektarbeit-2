{
 "cells": [
  {
   "cell_type": "code",
   "execution_count": 1,
   "id": "4ffc01bc",
   "metadata": {},
   "outputs": [],
   "source": [
    "from qiskit import QuantumCircuit\n",
    "from qiskit.providers.aer import AerSimulator"
   ]
  },
  {
   "cell_type": "code",
   "execution_count": 2,
   "id": "7a48ec1c",
   "metadata": {},
   "outputs": [
    {
     "data": {
      "text/plain": [
       "<qiskit.circuit.instructionset.InstructionSet at 0x7f5445ff4240>"
      ]
     },
     "execution_count": 2,
     "metadata": {},
     "output_type": "execute_result"
    }
   ],
   "source": [
    "qc = QuantumCircuit(4, 4)\n",
    "\n",
    "qc.initialize([0, 1], 0)\n",
    "#qc.initialize([0, 1], 1)\n",
    "#qc.initialize([0, 1], 2)\n",
    "#qc.initialize([0, 1], 3)\n",
    "\n",
    "qc.swap(0, 1)\n",
    "qc.swap(1, 2)\n",
    "qc.swap(2, 3)\n",
    "qc.cx(3, 0)\n",
    "\n",
    "qc.measure([0, 1, 2, 3], [0, 1, 2, 3])"
   ]
  },
  {
   "cell_type": "code",
   "execution_count": 3,
   "id": "bf2517fe",
   "metadata": {},
   "outputs": [
    {
     "data": {
      "text/html": [
       "<pre style=\"word-wrap: normal;white-space: pre;background: #fff0;line-height: 1.1;font-family: &quot;Courier New&quot;,Courier,monospace\">     ┌─────────────────┐            ┌───┐   ┌─┐   \n",
       "q_0: ┤ Initialize(0,1) ├─X──────────┤ X ├───┤M├───\n",
       "     └─────────────────┘ │       ┌─┐└─┬─┘   └╥┘   \n",
       "q_1: ────────────────────X──X────┤M├──┼──────╫────\n",
       "                            │    └╥┘  │  ┌─┐ ║    \n",
       "q_2: ───────────────────────X──X──╫───┼──┤M├─╫────\n",
       "                               │  ║   │  └╥┘ ║ ┌─┐\n",
       "q_3: ──────────────────────────X──╫───■───╫──╫─┤M├\n",
       "                                  ║       ║  ║ └╥┘\n",
       "c: 4/═════════════════════════════╩═══════╩══╩══╩═\n",
       "                                  1       2  0  3 </pre>"
      ],
      "text/plain": [
       "     ┌─────────────────┐            ┌───┐   ┌─┐   \n",
       "q_0: ┤ Initialize(0,1) ├─X──────────┤ X ├───┤M├───\n",
       "     └─────────────────┘ │       ┌─┐└─┬─┘   └╥┘   \n",
       "q_1: ────────────────────X──X────┤M├──┼──────╫────\n",
       "                            │    └╥┘  │  ┌─┐ ║    \n",
       "q_2: ───────────────────────X──X──╫───┼──┤M├─╫────\n",
       "                               │  ║   │  └╥┘ ║ ┌─┐\n",
       "q_3: ──────────────────────────X──╫───■───╫──╫─┤M├\n",
       "                                  ║       ║  ║ └╥┘\n",
       "c: 4/═════════════════════════════╩═══════╩══╩══╩═\n",
       "                                  1       2  0  3 "
      ]
     },
     "metadata": {},
     "output_type": "display_data"
    }
   ],
   "source": [
    "display(qc.draw()) "
   ]
  },
  {
   "cell_type": "code",
   "execution_count": 4,
   "id": "dfa048a9",
   "metadata": {},
   "outputs": [],
   "source": [
    "sim_job = AerSimulator().run(qc)"
   ]
  },
  {
   "cell_type": "code",
   "execution_count": 5,
   "id": "46267d8f",
   "metadata": {},
   "outputs": [
    {
     "data": {
      "text/plain": [
       "{'1001': 1024}"
      ]
     },
     "execution_count": 5,
     "metadata": {},
     "output_type": "execute_result"
    }
   ],
   "source": [
    "sim_job.result().get_counts()"
   ]
  },
  {
   "cell_type": "code",
   "execution_count": null,
   "id": "34a6f50e",
   "metadata": {},
   "outputs": [],
   "source": []
  }
 ],
 "metadata": {
  "kernelspec": {
   "display_name": "venv",
   "language": "python",
   "name": "venv"
  },
  "language_info": {
   "codemirror_mode": {
    "name": "ipython",
    "version": 3
   },
   "file_extension": ".py",
   "mimetype": "text/x-python",
   "name": "python",
   "nbconvert_exporter": "python",
   "pygments_lexer": "ipython3",
   "version": "3.9.12"
  }
 },
 "nbformat": 4,
 "nbformat_minor": 5
}
