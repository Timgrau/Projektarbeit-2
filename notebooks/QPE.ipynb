{
 "cells": [
  {
   "cell_type": "code",
   "execution_count": 150,
   "id": "12fdc920",
   "metadata": {},
   "outputs": [],
   "source": [
    "import matplotlib.pyplot as plt\n",
    "from math import pi\n",
    "from qiskit import Aer, transpile, assemble\n",
    "from qiskit import QuantumCircuit\n",
    "from qiskit.visualization import plot_histogram"
   ]
  },
  {
   "cell_type": "code",
   "execution_count": 151,
   "id": "f93f6ba3",
   "metadata": {},
   "outputs": [],
   "source": [
    "n_qubits = 3\n",
    "qpe = QuantumCircuit(4, n_qubits)\n",
    "qpe.x(n_qubits)\n",
    "\n",
    "for qubit in range(n_qubits):\n",
    "    qpe.h(qubit)"
   ]
  },
  {
   "cell_type": "code",
   "execution_count": 152,
   "id": "eac1877c",
   "metadata": {},
   "outputs": [],
   "source": [
    "# controlled unitary P(pi/2)  \n",
    "qpe.cp(pi/2, 2, 3)\n",
    "\n",
    "qpe.cp(pi/2, 1, 3)\n",
    "qpe.cp(pi/2, 1, 3)\n",
    "\n",
    "for i in range(4):\n",
    "    qpe.cp(pi/2, 0, 3)\n",
    "#qpe.draw()"
   ]
  },
  {
   "cell_type": "code",
   "execution_count": 153,
   "id": "a8c072bc",
   "metadata": {},
   "outputs": [
    {
     "data": {
      "text/html": [
       "<pre style=\"word-wrap: normal;white-space: pre;background: #fff0;line-height: 1.1;font-family: &quot;Courier New&quot;,Courier,monospace\">     ┌───┐                                                               ┌───┐»\n",
       "q_0: ┤ H ├────────────────────────────■────────■────────■────────■───────┤ H ├»\n",
       "     ├───┤                            │        │        │        │       └───┘»\n",
       "q_1: ┤ H ├──────────■────────■────────┼────────┼────────┼────────┼────────────»\n",
       "     ├───┤          │        │        │        │        │        │            »\n",
       "q_2: ┤ H ├─■────────┼────────┼────────┼────────┼────────┼────────┼────────────»\n",
       "     ├───┤ │P(π/2)  │P(π/2)  │P(π/2)  │P(π/2)  │P(π/2)  │P(π/2)  │P(π/2)      »\n",
       "q_3: ┤ X ├─■────────■────────■────────■────────■────────■────────■────────────»\n",
       "     └───┘                                                                    »\n",
       "c: 3/═════════════════════════════════════════════════════════════════════════»\n",
       "                                                                              »\n",
       "«                                             \n",
       "«q_0: ─■─────────■────────────────────────────\n",
       "«      │P(-π/2)  │        ┌───┐               \n",
       "«q_1: ─■─────────┼────────┤ H ├─■─────────────\n",
       "«                │P(-π/4) └───┘ │P(-π/2) ┌───┐\n",
       "«q_2: ───────────■──────────────■────────┤ H ├\n",
       "«                                        └───┘\n",
       "«q_3: ────────────────────────────────────────\n",
       "«                                             \n",
       "«c: 3/════════════════════════════════════════\n",
       "«                                             </pre>"
      ],
      "text/plain": [
       "     ┌───┐                                                               ┌───┐»\n",
       "q_0: ┤ H ├────────────────────────────■────────■────────■────────■───────┤ H ├»\n",
       "     ├───┤                            │        │        │        │       └───┘»\n",
       "q_1: ┤ H ├──────────■────────■────────┼────────┼────────┼────────┼────────────»\n",
       "     ├───┤          │        │        │        │        │        │            »\n",
       "q_2: ┤ H ├─■────────┼────────┼────────┼────────┼────────┼────────┼────────────»\n",
       "     ├───┤ │P(π/2)  │P(π/2)  │P(π/2)  │P(π/2)  │P(π/2)  │P(π/2)  │P(π/2)      »\n",
       "q_3: ┤ X ├─■────────■────────■────────■────────■────────■────────■────────────»\n",
       "     └───┘                                                                    »\n",
       "c: 3/═════════════════════════════════════════════════════════════════════════»\n",
       "                                                                              »\n",
       "«                                             \n",
       "«q_0: ─■─────────■────────────────────────────\n",
       "«      │P(-π/2)  │        ┌───┐               \n",
       "«q_1: ─■─────────┼────────┤ H ├─■─────────────\n",
       "«                │P(-π/4) └───┘ │P(-π/2) ┌───┐\n",
       "«q_2: ───────────■──────────────■────────┤ H ├\n",
       "«                                        └───┘\n",
       "«q_3: ────────────────────────────────────────\n",
       "«                                             \n",
       "«c: 3/════════════════════════════════════════\n",
       "«                                             "
      ]
     },
     "execution_count": 153,
     "metadata": {},
     "output_type": "execute_result"
    }
   ],
   "source": [
    "# inverse QFT\n",
    "qpe.h(0)\n",
    "qpe.cp(-pi/2, 0, 1)\n",
    "qpe.cp(-pi/4, 0, 2)\n",
    "\n",
    "qpe.h(1)\n",
    "qpe.cp(-pi/2, 1, 2)\n",
    "\n",
    "qpe.h(2)\n",
    "qpe.draw()"
   ]
  },
  {
   "cell_type": "code",
   "execution_count": 154,
   "id": "1378a388",
   "metadata": {},
   "outputs": [
    {
     "data": {
      "text/plain": [
       "<qiskit.circuit.instructionset.InstructionSet at 0x7f328f4fef40>"
      ]
     },
     "execution_count": 154,
     "metadata": {},
     "output_type": "execute_result"
    }
   ],
   "source": [
    "# measure\n",
    "qpe.measure(0, 0)\n",
    "qpe.measure(1, 1)\n",
    "qpe.measure(2, 2)"
   ]
  },
  {
   "cell_type": "code",
   "execution_count": 155,
   "id": "ed633b5d",
   "metadata": {},
   "outputs": [
    {
     "data": {
      "image/png": "[encoded data removed]",
      "text/plain": [
       "<Figure size 504x360 with 1 Axes>"
      ]
     },
     "execution_count": 155,
     "metadata": {},
     "output_type": "execute_result"
    }
   ],
   "source": [
    "# simulate\n",
    "aer_sim = Aer.get_backend('aer_simulator')\n",
    "shots = 1024\n",
    "t_qpe = transpile(qpe, aer_sim)\n",
    "qobj = assemble(t_qpe, shots=shots)\n",
    "results = aer_sim.run(qobj).result()\n",
    "answer = results.get_counts()\n",
    "\n",
    "plot_histogram(answer)"
   ]
  },
  {
   "cell_type": "markdown",
   "id": "9990c519",
   "metadata": {},
   "source": [
    "Ergebniss muss durch $2^n$ geteilt werden, um die Phase zu erhalten\n",
    "$$\n",
    "P=\\begin{bmatrix}\n",
    "1 & 0 \\\\\n",
    "0 & e^{\\frac{i\\pi}{2}}\n",
    "\\end{bmatrix} \\qquad\n",
    "T|1\\rangle = e^{\\frac{i\\pi}{2}}|1\\rangle \\\\\n",
    "T|1\\rangle = e^{2 i\\pi \\phi |0\\rangle} \\qquad \\phi = \\frac{1}{4}\n",
    "$$"
   ]
  }
 ],
 "metadata": {
  "kernelspec": {
   "display_name": "venv",
   "language": "python",
   "name": "venv"
  },
  "language_info": {
   "codemirror_mode": {
    "name": "ipython",
    "version": 3
   },
   "file_extension": ".py",
   "mimetype": "text/x-python",
   "name": "python",
   "nbconvert_exporter": "python",
   "pygments_lexer": "ipython3",
   "version": "3.10.4"
  }
 },
 "nbformat": 4,
 "nbformat_minor": 5
}
